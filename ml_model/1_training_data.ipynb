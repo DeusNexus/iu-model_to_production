{
 "cells": [
  {
   "cell_type": "code",
   "execution_count": null,
   "metadata": {},
   "outputs": [],
   "source": [
    "# pip install cassandra-driver pandas"
   ]
  },
  {
   "cell_type": "code",
   "execution_count": 5,
   "metadata": {},
   "outputs": [
    {
     "name": "stdout",
     "output_type": "stream",
     "text": [
      "Data saved to spark_stream_data.csv\n"
     ]
    }
   ],
   "source": [
    "from cassandra.cluster import Cluster\n",
    "import pandas as pd\n",
    "\n",
    "# Connect to Cassandra (host IP is separated from the port number)\n",
    "cluster = Cluster(['localhost'], port=9042)  # Replace '172.19.0.1' with the appropriate host IP if needed\n",
    "session = cluster.connect('iot_stations')  # Connect to your keyspace\n",
    "\n",
    "# Query to select all rows from your table\n",
    "query = \"SELECT * FROM spark_stream;\"\n",
    "rows = session.execute(query)\n",
    "\n",
    "# Convert the query result to a list of dictionaries\n",
    "data = [dict(row._asdict()) for row in rows]\n",
    "\n",
    "# Convert to a pandas DataFrame\n",
    "df = pd.DataFrame(data)\n",
    "\n",
    "# Save DataFrame to a CSV file\n",
    "df.to_csv('spark_stream_data.csv', index=False)\n",
    "\n",
    "# Close the connection\n",
    "cluster.shutdown()\n",
    "\n",
    "print(\"Data saved to spark_stream_data.csv\")"
   ]
  },
  {
   "cell_type": "code",
   "execution_count": null,
   "metadata": {},
   "outputs": [],
   "source": []
  }
 ],
 "metadata": {
  "kernelspec": {
   "display_name": "Python 3",
   "language": "python",
   "name": "python3"
  },
  "language_info": {
   "codemirror_mode": {
    "name": "ipython",
    "version": 3
   },
   "file_extension": ".py",
   "mimetype": "text/x-python",
   "name": "python",
   "nbconvert_exporter": "python",
   "pygments_lexer": "ipython3",
   "version": "3.10.14"
  }
 },
 "nbformat": 4,
 "nbformat_minor": 2
}
